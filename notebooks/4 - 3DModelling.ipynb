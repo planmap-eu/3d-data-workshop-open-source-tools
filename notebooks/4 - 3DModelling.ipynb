{
 "cells": [
  {
   "cell_type": "code",
   "execution_count": 1,
   "metadata": {},
   "outputs": [
    {
     "name": "stdout",
     "output_type": "stream",
     "text": [
      "Populating the interactive namespace from numpy and matplotlib\n"
     ]
    }
   ],
   "source": [
    "%pylab inline\n",
    "import glob, pandas, os, vtk"
   ]
  },
  {
   "cell_type": "markdown",
   "metadata": {},
   "source": [
    "We want to implemnt this model, on the basis of actual data\n",
    "$$d =d_0 - \\vec p_i \\cdot \\hat n $$"
   ]
  },
  {
   "cell_type": "code",
   "execution_count": 2,
   "metadata": {},
   "outputs": [],
   "source": [
    "def get_implicit_model_scalar_value(point, d0, normal):\n",
    "    return d0 - point.dot(normal)\n",
    "\n",
    "def get_implicit_model_gradient(point, d0, normal):\n",
    "    return normal"
   ]
  },
  {
   "cell_type": "code",
   "execution_count": 3,
   "metadata": {},
   "outputs": [],
   "source": [
    "folder = \"data\"\n",
    "ext = \".asc\"\n",
    "\n",
    "files = glob.glob(os.path.join(folder, \"*\" +  ext))\n",
    "lines = []\n",
    "for f in files:\n",
    "    t = pandas.read_csv(f,header=None, sep=\" \")\n",
    "    lines.append(t)"
   ]
  },
  {
   "cell_type": "code",
   "execution_count": 4,
   "metadata": {},
   "outputs": [],
   "source": [
    "centers = [np.mean(np.array(l), axis=0) for l in lines]"
   ]
  },
  {
   "cell_type": "code",
   "execution_count": 5,
   "metadata": {},
   "outputs": [
    {
     "data": {
      "text/plain": [
       "[array([-25.29972553,  -1.84934804, -13.97334313]),\n",
       " array([-25.30842945,  -2.36372157, -13.86027854]),\n",
       " array([-25.39080157,  -1.78226469, -13.97001648])]"
      ]
     },
     "execution_count": 5,
     "metadata": {},
     "output_type": "execute_result"
    }
   ],
   "source": [
    "centers"
   ]
  },
  {
   "cell_type": "code",
   "execution_count": 6,
   "metadata": {},
   "outputs": [],
   "source": [
    "decentred = [np.array(l) - center for l, center in zip(lines, centers)]"
   ]
  },
  {
   "cell_type": "code",
   "execution_count": 7,
   "metadata": {},
   "outputs": [],
   "source": [
    "vals, vects = np.linalg.eig(np.cov(np.row_stack(decentred).T))"
   ]
  },
  {
   "cell_type": "code",
   "execution_count": 9,
   "metadata": {},
   "outputs": [],
   "source": [
    "id = np.argmin(vals)\n",
    "normal = vects[:,id]"
   ]
  },
  {
   "cell_type": "markdown",
   "metadata": {},
   "source": [
    "We have the normal of our model, we now need a $d_0$. We place the 0 of our reference system at the very first plane cneter"
   ]
  },
  {
   "cell_type": "code",
   "execution_count": 10,
   "metadata": {},
   "outputs": [
    {
     "name": "stdout",
     "output_type": "stream",
     "text": [
      "12.250683643676703\n"
     ]
    }
   ],
   "source": [
    "d0 = -centers[0].dot(normal) # distance of the first centroid from the origin, along the normal direction\n",
    "print(d0)"
   ]
  },
  {
   "cell_type": "markdown",
   "metadata": {},
   "source": [
    "We now need to define a volume of interest"
   ]
  },
  {
   "cell_type": "code",
   "execution_count": 13,
   "metadata": {},
   "outputs": [],
   "source": [
    "mesh = \"data/mesh.ply\"\n",
    "\n",
    "r  = vtk.vtkPLYReader()\n",
    "r.SetFileName(mesh)\n",
    "r.Update()\n",
    "vtp = r.GetOutput()"
   ]
  },
  {
   "cell_type": "code",
   "execution_count": 14,
   "metadata": {},
   "outputs": [],
   "source": [
    "from vtk.util.numpy_support import *\n",
    "allpts = vtk_to_numpy(vtp.GetPoints().GetData())"
   ]
  },
  {
   "cell_type": "code",
   "execution_count": 15,
   "metadata": {},
   "outputs": [
    {
     "name": "stderr",
     "output_type": "stream",
     "text": [
      "/home/luca/.local/lib/python3.7/site-packages/vtk/util/numpy_support.py:137: FutureWarning: Conversion of the second argument of issubdtype from `complex` to `np.complexfloating` is deprecated. In future, it will be treated as `np.complex128 == np.dtype(complex).type`.\n",
      "  assert not numpy.issubdtype(z.dtype, complex), \\\n"
     ]
    }
   ],
   "source": [
    "values = [get_implicit_model_scalar_value(p, d0, normal) for p in allpts]\n",
    "asarr= numpy_to_vtk(values)\n",
    "asarr.SetName(\"values\")"
   ]
  },
  {
   "cell_type": "code",
   "execution_count": 16,
   "metadata": {},
   "outputs": [
    {
     "data": {
      "text/plain": [
       "2"
      ]
     },
     "execution_count": 16,
     "metadata": {},
     "output_type": "execute_result"
    }
   ],
   "source": [
    "vtp.GetPointData().AddArray(asarr)"
   ]
  },
  {
   "cell_type": "code",
   "execution_count": 20,
   "metadata": {},
   "outputs": [],
   "source": [
    "w = vtk.vtkXMLPolyDataWriter()\n",
    "w.SetFileName(\"model1.vtp\")\n",
    "w.SetInputData(vtp)\n",
    "w.Update()\n"
   ]
  },
  {
   "cell_type": "code",
   "execution_count": 21,
   "metadata": {},
   "outputs": [
    {
     "name": "stdout",
     "output_type": "stream",
     "text": [
      "[-26.322306   -2.9138064 -14.601566 ] [-24.038788   -1.0010338 -13.625318 ]\n"
     ]
    }
   ],
   "source": [
    "mins = np.min(allpts, axis=0)\n",
    "maxs = np.max(allpts, axis=0)\n",
    "print(mins, maxs)"
   ]
  },
  {
   "cell_type": "code",
   "execution_count": 18,
   "metadata": {},
   "outputs": [],
   "source": [
    "def generateVtkImageFromBoundingBox(bmin, bmax, spacing=0.1):\n",
    "    vol = vtk.vtkImageData()\n",
    "    vol.SetSpacing([spacing for i in np.arange(3)])\n",
    "    nn = np.ceil((bmax - bmin) / spacing)\n",
    "    nn = nn.astype(int)\n",
    "    vol.SetExtent(0, nn[0], 0, nn[1], 0, nn[2])\n",
    "    vol.SetOrigin(mins)\n",
    "    return vol\n",
    "\n",
    "\n",
    "def extractPointsFromVtkImage(volume):\n",
    "    points = []\n",
    "    for i in np.arange(volume.GetNumberOfPoints()):\n",
    "        p = np.array(volume.GetPoint(i))\n",
    "        points.append(p)\n",
    "\n",
    "    return np.array(points)\n"
   ]
  },
  {
   "cell_type": "code",
   "execution_count": 19,
   "metadata": {},
   "outputs": [
    {
     "ename": "NameError",
     "evalue": "name 'mins' is not defined",
     "output_type": "error",
     "traceback": [
      "\u001b[0;31m---------------------------------------------------------------------------\u001b[0m",
      "\u001b[0;31mNameError\u001b[0m                                 Traceback (most recent call last)",
      "\u001b[0;32m<ipython-input-19-f4adcabf39b4>\u001b[0m in \u001b[0;36m<module>\u001b[0;34m\u001b[0m\n\u001b[0;32m----> 1\u001b[0;31m \u001b[0mvol\u001b[0m \u001b[0;34m=\u001b[0m \u001b[0mgenerateVtkImageFromBoundingBox\u001b[0m\u001b[0;34m(\u001b[0m\u001b[0mmins\u001b[0m\u001b[0;34m,\u001b[0m \u001b[0mmaxs\u001b[0m\u001b[0;34m,\u001b[0m \u001b[0;36m0.1\u001b[0m\u001b[0;34m)\u001b[0m\u001b[0;34m\u001b[0m\u001b[0;34m\u001b[0m\u001b[0m\n\u001b[0m\u001b[1;32m      2\u001b[0m \u001b[0mvolpts\u001b[0m \u001b[0;34m=\u001b[0m \u001b[0mextractPointsFromVtkImage\u001b[0m\u001b[0;34m(\u001b[0m\u001b[0mvol\u001b[0m\u001b[0;34m)\u001b[0m\u001b[0;34m\u001b[0m\u001b[0;34m\u001b[0m\u001b[0m\n",
      "\u001b[0;31mNameError\u001b[0m: name 'mins' is not defined"
     ]
    }
   ],
   "source": [
    "vol = generateVtkImageFromBoundingBox(mins, maxs, 0.1)\n",
    "volpts = extractPointsFromVtkImage(vol)"
   ]
  },
  {
   "cell_type": "code",
   "execution_count": 52,
   "metadata": {},
   "outputs": [],
   "source": [
    "values = [get_implicit_model_scalar_value(p, d0, normal) for p in volpts]\n",
    "asarr= numpy_to_vtk(values)\n",
    "asarr.SetName(\"values\")"
   ]
  },
  {
   "cell_type": "code",
   "execution_count": 53,
   "metadata": {},
   "outputs": [
    {
     "data": {
      "text/plain": [
       "0"
      ]
     },
     "execution_count": 53,
     "metadata": {},
     "output_type": "execute_result"
    }
   ],
   "source": [
    "vol.GetPointData().AddArray(asarr)"
   ]
  },
  {
   "cell_type": "code",
   "execution_count": 54,
   "metadata": {},
   "outputs": [
    {
     "data": {
      "text/plain": [
       "1"
      ]
     },
     "execution_count": 54,
     "metadata": {},
     "output_type": "execute_result"
    }
   ],
   "source": [
    "w = vtk.vtkXMLImageDataWriter()\n",
    "w.SetFileName(\"volume.vti\")\n",
    "w.SetInputData(vol)\n",
    "w.Write()"
   ]
  },
  {
   "cell_type": "code",
   "execution_count": null,
   "metadata": {},
   "outputs": [],
   "source": []
  }
 ],
 "metadata": {
  "kernelspec": {
   "display_name": "Python 3",
   "language": "python",
   "name": "python3"
  },
  "language_info": {
   "codemirror_mode": {
    "name": "ipython",
    "version": 3
   },
   "file_extension": ".py",
   "mimetype": "text/x-python",
   "name": "python",
   "nbconvert_exporter": "python",
   "pygments_lexer": "ipython3",
   "version": "3.7.3"
  }
 },
 "nbformat": 4,
 "nbformat_minor": 2
}
